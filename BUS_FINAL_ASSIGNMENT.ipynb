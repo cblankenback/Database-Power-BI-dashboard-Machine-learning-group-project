{
  "nbformat": 4,
  "nbformat_minor": 0,
  "metadata": {
    "colab": {
      "provenance": [],
      "include_colab_link": true
    },
    "kernelspec": {
      "name": "python3",
      "display_name": "Python 3"
    },
    "language_info": {
      "name": "python"
    }
  },
  "cells": [
    {
      "cell_type": "markdown",
      "metadata": {
        "id": "view-in-github",
        "colab_type": "text"
      },
      "source": [
        "<a href=\"https://colab.research.google.com/github/cblankenback/bus007_final_assignment/blob/main/BUS_FINAL_ASSIGNMENT.ipynb\" target=\"_parent\"><img src=\"https://colab.research.google.com/assets/colab-badge.svg\" alt=\"Open In Colab\"/></a>"
      ]
    },
    {
      "cell_type": "markdown",
      "source": [
        "# BUS_007 FINAL ASSIGNMENT\n"
      ],
      "metadata": {
        "id": "ukqCWnyswnzV"
      }
    },
    {
      "cell_type": "markdown",
      "source": [
        "## a. Introduction – 1 point (1%)\n"
      ],
      "metadata": {
        "id": "zMhV8ZzOyjKa"
      }
    },
    {
      "cell_type": "markdown",
      "source": [],
      "metadata": {
        "id": "i6r5WUypzRnS"
      }
    },
    {
      "cell_type": "markdown",
      "source": [
        "## b. Description of the Dataset – 2 points (1%)"
      ],
      "metadata": {
        "id": "wuXpv7CYyqTD"
      }
    },
    {
      "cell_type": "markdown",
      "source": [],
      "metadata": {
        "id": "jmRb1mMyzSAz"
      }
    },
    {
      "cell_type": "markdown",
      "source": [
        "## c. Type of Graphs and observations – 4 points (2%)"
      ],
      "metadata": {
        "id": "WRKFZF6UywzJ"
      }
    },
    {
      "cell_type": "markdown",
      "source": [],
      "metadata": {
        "id": "5CTW-Mg-zSur"
      }
    },
    {
      "cell_type": "markdown",
      "source": [
        "## d. Descriptive Statistics – 2 points (1%) Measure of Central Tendency (Mean, Median, Mode), Dispersion, Outlier Detection, Missing Values Detection"
      ],
      "metadata": {
        "id": "AvQmzrcuy3Vu"
      }
    },
    {
      "cell_type": "markdown",
      "source": [],
      "metadata": {
        "id": "pOmXYiZ4zTRd"
      }
    },
    {
      "cell_type": "markdown",
      "source": [
        "## e. Predictive Statistics – 4 points (4%) Preprocessing steps, selecting the algorithm (classification, regression, clustering), selecting the evaluation method, results of evaluation."
      ],
      "metadata": {
        "id": "qC9Z7PDay7g5"
      }
    },
    {
      "cell_type": "markdown",
      "source": [],
      "metadata": {
        "id": "fqCecgfCzT9q"
      }
    },
    {
      "cell_type": "markdown",
      "source": [
        "## f. Conclusion and Recommendations – 2 points (1%)"
      ],
      "metadata": {
        "id": "ryX7uNjozGNf"
      }
    },
    {
      "cell_type": "markdown",
      "source": [],
      "metadata": {
        "id": "2IUTnUZVzUnb"
      }
    }
  ]
}